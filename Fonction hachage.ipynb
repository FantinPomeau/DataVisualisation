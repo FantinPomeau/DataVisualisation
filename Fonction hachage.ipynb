{
 "cells": [
  {
   "cell_type": "code",
   "execution_count": 1,
   "id": "fb53b3cc",
   "metadata": {},
   "outputs": [],
   "source": [
    "import hashlib\n",
    "import random\n",
    "import string\n",
    "import time\n",
    "import scipy.stats as stats\n",
    "import numpy as np\n",
    "import matplotlib.pyplot as plt\n"
   ]
  },
  {
   "cell_type": "code",
   "execution_count": 2,
   "id": "811b1a2d",
   "metadata": {},
   "outputs": [
    {
     "name": "stdout",
     "output_type": "stream",
     "text": [
      "[1.00398064e-03 1.41967845e+00 2.24467516e-01 1.76409960e-01\n",
      " 3.78862143e-01 2.58693457e-01 4.21278477e-02 2.06010103e-01\n",
      " 5.88335991e-02 6.71713352e-02]\n"
     ]
    }
   ],
   "source": [
    "\n",
    "\n",
    "difficulte = 4  \n",
    "max_nonce = 2 ** 32  \n",
    "\n",
    "def preuve_de_travail(block, difficulte):\n",
    "    cible = \"0\" * difficulte\n",
    "    for nonce in range(max_nonce):\n",
    "        donnees = f'{block}{nonce}'.encode('utf-8')\n",
    "        hachage = hashlib.sha256(donnees).hexdigest()\n",
    "        if hachage[:difficulte] == cible:\n",
    "            return nonce, hachage\n",
    "\n",
    "def creer_bloc(precedent_bloc, donnees, difficulte):\n",
    "    bloc = {\n",
    "        \"precedent_bloc\": precedent_bloc,\n",
    "        \"donnees\": donnees,\n",
    "    }\n",
    "    start_time = time.time()\n",
    "    nonce, hachage = preuve_de_travail(str(bloc), difficulte)\n",
    "    end_time = time.time()\n",
    "    temps_execution = end_time - start_time\n",
    "\n",
    "    bloc[\"nonce\"] = nonce\n",
    "    bloc[\"hachage\"] = hachage\n",
    "    bloc[\"temps_execution\"] = temps_execution\n",
    "\n",
    "    return bloc\n",
    "\n",
    "\n",
    "if __name__ == \"__main__\":\n",
    "    vect=np.zeros(10)\n",
    "    for i in range (0,10):\n",
    "\n",
    "        precedent_bloc = \"0000000000000000000000000000000000000000000000000000000000000000\"\n",
    "        donnees = f\"Transaction {i}\"\n",
    "        difficulte = 4\n",
    "\n",
    "        nouveau_bloc = creer_bloc(precedent_bloc, donnees, difficulte)\n",
    "        vect[i]=nouveau_bloc[\"temps_execution\"]\n",
    "\n",
    "    print(vect)        "
   ]
  },
  {
   "cell_type": "code",
   "execution_count": 9,
   "id": "3ce546ba",
   "metadata": {},
   "outputs": [
    {
     "data": {
      "text/plain": [
       "KstestResult(statistic=0.6, pvalue=0.05244755244755244)"
      ]
     },
     "execution_count": 9,
     "metadata": {},
     "output_type": "execute_result"
    }
   ],
   "source": [
    "stats.kstest(vect,stats.expon.cdf(vect,scale=4))"
   ]
  },
  {
   "cell_type": "code",
   "execution_count": 3,
   "id": "62b3f5f5",
   "metadata": {},
   "outputs": [],
   "source": [
    "###Simulation de Minage déviante (chaine de Markov )\n",
    "def minage(q,n):\n",
    "    R=0\n",
    "    H=0\n",
    "    p=1-q\n",
    "    for i in range(0,n):\n",
    "        if np.random.uniform()<q :\n",
    "            if np.random.uniform()<q:\n",
    "                if np.random.uniform()<q:\n",
    "                    R=R+1\n",
    "                    H=H+1\n",
    "                R=R+2\n",
    "                H=H+2\n",
    "            else:\n",
    "                if np.random.uniform()<q:\n",
    "                    R=R+2\n",
    "                H=H+2\n",
    "        else:\n",
    "            H=H+1\n",
    "    return q,H,R,R/H\n"
   ]
  },
  {
   "cell_type": "code",
   "execution_count": 9,
   "id": "82c4ef5f",
   "metadata": {},
   "outputs": [
    {
     "data": {
      "image/png": "[encoded data removed]",
      "text/plain": [
       "<Figure size 432x288 with 1 Axes>"
      ]
     },
     "metadata": {
      "needs_background": "light"
     },
     "output_type": "display_data"
    }
   ],
   "source": [
    "x=[]\n",
    "y=[]\n",
    "for q in np.linspace(0,1,100):\n",
    "    vect=minage(q,1000)\n",
    "    \n",
    "    x.append(vect[0])\n",
    "    y.append(vect[3])\n",
    "plt.plot(x,y)\n",
    "plt.plot(x,x)\n",
    "plt.xlabel(\"q\")\n",
    "plt.ylabel(\"Rendement\")\n",
    "plt.axvline(x=0.41,color=\"red\")\n",
    "plt.grid()\n"
   ]
  },
  {
   "cell_type": "code",
   "execution_count": 12,
   "id": "2baafc66",
   "metadata": {},
   "outputs": [],
   "source": [
    "### Jeu pile ou face \n",
    "def pileface(q,n):\n",
    "    a=0\n",
    "    h=0\n",
    "    c=0\n",
    "    for i in range(0,n):\n",
    "        if a>h:\n",
    "            a=a-h-1\n",
    "            c=h+1-q\n",
    "            h=0\n",
    "            return a,h,c\n",
    "        \n",
    "        if np.random.rand()<q:\n",
    "            a=a+1\n",
    "        else:\n",
    "            h=h+1\n",
    "            c=c-q\n",
    "    return a,h,c\n",
    "\n",
    "        "
   ]
  },
  {
   "cell_type": "code",
   "execution_count": 14,
   "id": "c43695a3",
   "metadata": {},
   "outputs": [
    {
     "name": "stdout",
     "output_type": "stream",
     "text": [
      "[ 9.2     20.8     -6.23328]\n"
     ]
    }
   ],
   "source": [
    "x=np.zeros(3)\n",
    "for i in range(0,100):\n",
    "    x=x+pileface(0.3294,50)\n",
    "print(x/100)"
   ]
  },
  {
   "cell_type": "code",
   "execution_count": 2,
   "id": "564673a4",
   "metadata": {},
   "outputs": [],
   "source": [
    "def pileface2(a,h,n,q,c):\n",
    "    if n==0:\n",
    "        return 0\n",
    "    if a>h:\n",
    "        return max(h+1-c+pileface2(a-h-1,0,n-1,q,c),q*pileface2(a+1,h,n-1,q,c)+(1-q)*pileface2(a,h+1,n-1,q,c))\n",
    "    else:\n",
    "        return max(pileface2(0,0,n-1,q,c), q*pileface2(a+1,h,n-1,q,c)+(1-q)*pileface2(a,h+1,n-1,q,c))"
   ]
  },
  {
   "cell_type": "code",
   "execution_count": null,
   "id": "bb32c59b",
   "metadata": {},
   "outputs": [],
   "source": [
    "q=0.3294\n",
    "pileface2(0,0,50,q,q)"
   ]
  },
  {
   "cell_type": "code",
   "execution_count": null,
   "id": "7d66a068",
   "metadata": {},
   "outputs": [],
   "source": []
  },
  {
   "cell_type": "code",
   "execution_count": null,
   "id": "3cca1ad5",
   "metadata": {},
   "outputs": [],
   "source": []
  }
 ],
 "metadata": {
  "kernelspec": {
   "display_name": "Python 3",
   "language": "python",
   "name": "python3"
  },
  "language_info": {
   "codemirror_mode": {
    "name": "ipython",
    "version": 3
   },
   "file_extension": ".py",
   "mimetype": "text/x-python",
   "name": "python",
   "nbconvert_exporter": "python",
   "pygments_lexer": "ipython3",
   "version": "3.8.8"
  }
 },
 "nbformat": 4,
 "nbformat_minor": 5
}
